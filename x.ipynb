{
 "cells": [
  {
   "cell_type": "code",
   "execution_count": 4,
   "id": "46dd2d8b",
   "metadata": {},
   "outputs": [
    {
     "name": "stdout",
     "output_type": "stream",
     "text": [
      "Collecting kaggle\n",
      "  Downloading kaggle-1.7.4.5-py3-none-any.whl (181 kB)\n",
      "     ------------------------------------ 181.2/181.2 kB 914.4 kB/s eta 0:00:00\n",
      "Collecting bleach\n",
      "  Downloading bleach-6.2.0-py3-none-any.whl (163 kB)\n",
      "     -------------------------------------- 163.4/163.4 kB 3.3 MB/s eta 0:00:00\n",
      "Collecting certifi>=14.05.14\n",
      "  Using cached certifi-2025.10.5-py3-none-any.whl (163 kB)\n",
      "Collecting charset-normalizer\n",
      "  Downloading charset_normalizer-3.4.4-cp311-cp311-win_amd64.whl (106 kB)\n",
      "     ------------------------------------ 107.0/107.0 kB 773.9 kB/s eta 0:00:00\n",
      "Collecting idna\n",
      "  Downloading idna-3.11-py3-none-any.whl (71 kB)\n",
      "     -------------------------------------- 71.0/71.0 kB 779.1 kB/s eta 0:00:00\n",
      "Collecting protobuf\n",
      "  Using cached protobuf-6.32.1-cp310-abi3-win_amd64.whl (435 kB)\n",
      "Requirement already satisfied: python-dateutil>=2.5.3 in c:\\users\\hp\\documents\\creditriskmlops\\venv\\lib\\site-packages (from kaggle) (2.9.0.post0)\n",
      "Collecting python-slugify\n",
      "  Using cached python_slugify-8.0.4-py2.py3-none-any.whl (10 kB)\n",
      "Collecting requests\n",
      "  Using cached requests-2.32.5-py3-none-any.whl (64 kB)\n",
      "Requirement already satisfied: setuptools>=21.0.0 in c:\\users\\hp\\documents\\creditriskmlops\\venv\\lib\\site-packages (from kaggle) (65.5.0)\n",
      "Requirement already satisfied: six>=1.10 in c:\\users\\hp\\documents\\creditriskmlops\\venv\\lib\\site-packages (from kaggle) (1.17.0)\n",
      "Collecting text-unidecode\n",
      "  Using cached text_unidecode-1.3-py2.py3-none-any.whl (78 kB)\n",
      "Collecting tqdm\n",
      "  Using cached tqdm-4.67.1-py3-none-any.whl (78 kB)\n",
      "Collecting urllib3>=1.15.1\n",
      "  Using cached urllib3-2.5.0-py3-none-any.whl (129 kB)\n",
      "Collecting webencodings\n",
      "  Using cached webencodings-0.5.1-py2.py3-none-any.whl (11 kB)\n",
      "Requirement already satisfied: colorama in c:\\users\\hp\\documents\\creditriskmlops\\venv\\lib\\site-packages (from tqdm->kaggle) (0.4.6)\n",
      "Installing collected packages: webencodings, text-unidecode, urllib3, tqdm, python-slugify, protobuf, idna, charset-normalizer, certifi, bleach, requests, kaggle\n",
      "Successfully installed bleach-6.2.0 certifi-2025.10.5 charset-normalizer-3.4.4 idna-3.11 kaggle-1.7.4.5 protobuf-6.32.1 python-slugify-8.0.4 requests-2.32.5 text-unidecode-1.3 tqdm-4.67.1 urllib3-2.5.0 webencodings-0.5.1\n",
      "Note: you may need to restart the kernel to use updated packages.\n"
     ]
    },
    {
     "name": "stderr",
     "output_type": "stream",
     "text": [
      "\n",
      "[notice] A new release of pip available: 22.3 -> 25.2\n",
      "[notice] To update, run: python.exe -m pip install --upgrade pip\n"
     ]
    }
   ],
   "source": [
    "pip install kaggle"
   ]
  },
  {
   "cell_type": "code",
   "execution_count": 5,
   "id": "c01f9388",
   "metadata": {},
   "outputs": [
    {
     "name": "stdout",
     "output_type": "stream",
     "text": [
      "Downloading GiveMeSomeCredit.zip to c:\\Users\\hp\\Documents\\Creditriskmlops\n",
      "\n"
     ]
    },
    {
     "name": "stderr",
     "output_type": "stream",
     "text": [
      "\n",
      "  0%|          | 0.00/5.16M [00:00<?, ?B/s]\n",
      "100%|██████████| 5.16M/5.16M [00:00<00:00, 78.1MB/s]\n"
     ]
    }
   ],
   "source": [
    "!kaggle competitions download -c GiveMeSomeCredit"
   ]
  },
  {
   "cell_type": "code",
   "execution_count": null,
   "id": "ee69238e",
   "metadata": {},
   "outputs": [],
   "source": []
  }
 ],
 "metadata": {
  "kernelspec": {
   "display_name": "venv",
   "language": "python",
   "name": "python3"
  },
  "language_info": {
   "codemirror_mode": {
    "name": "ipython",
    "version": 3
   },
   "file_extension": ".py",
   "mimetype": "text/x-python",
   "name": "python",
   "nbconvert_exporter": "python",
   "pygments_lexer": "ipython3",
   "version": "3.11.0"
  }
 },
 "nbformat": 4,
 "nbformat_minor": 5
}
